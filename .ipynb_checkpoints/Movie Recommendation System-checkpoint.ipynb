{
 "cells": [
  {
   "cell_type": "code",
   "execution_count": 1,
   "id": "e20fc0f2",
   "metadata": {},
   "outputs": [],
   "source": [
    "#################Importing libraries\n",
    "import pandas as pd\n",
    "import seaborn as sns\n",
    "from scipy.sparse import csr_matrix\n",
    "from sklearn.neighbors import NearestNeighbors\n",
    "from sklearn.metrics import mean_absolute_error, mean_squared_error"
   ]
  },
  {
   "cell_type": "code",
   "execution_count": 3,
   "id": "e99e0da4",
   "metadata": {},
   "outputs": [],
   "source": [
    "##################Load dataset\n",
    "df =  pd.read_csv('movies.csv')"
   ]
  },
  {
   "cell_type": "code",
   "execution_count": 4,
   "id": "1b3564b7",
   "metadata": {},
   "outputs": [
    {
     "data": {
      "text/html": [
       "<div>\n",
       "<style scoped>\n",
       "    .dataframe tbody tr th:only-of-type {\n",
       "        vertical-align: middle;\n",
       "    }\n",
       "\n",
       "    .dataframe tbody tr th {\n",
       "        vertical-align: top;\n",
       "    }\n",
       "\n",
       "    .dataframe thead th {\n",
       "        text-align: right;\n",
       "    }\n",
       "</style>\n",
       "<table border=\"1\" class=\"dataframe\">\n",
       "  <thead>\n",
       "    <tr style=\"text-align: right;\">\n",
       "      <th></th>\n",
       "      <th>movieId</th>\n",
       "      <th>title</th>\n",
       "      <th>genres</th>\n",
       "      <th>Ratings</th>\n",
       "    </tr>\n",
       "  </thead>\n",
       "  <tbody>\n",
       "    <tr>\n",
       "      <th>0</th>\n",
       "      <td>1</td>\n",
       "      <td>Toy Story (1995)</td>\n",
       "      <td>Adventure|Animation|Children|Comedy|Fantasy</td>\n",
       "      <td>0</td>\n",
       "    </tr>\n",
       "    <tr>\n",
       "      <th>1</th>\n",
       "      <td>2</td>\n",
       "      <td>Jumanji (1995)</td>\n",
       "      <td>Adventure|Children|Fantasy</td>\n",
       "      <td>1</td>\n",
       "    </tr>\n",
       "    <tr>\n",
       "      <th>2</th>\n",
       "      <td>3</td>\n",
       "      <td>Grumpier Old Men (1995)</td>\n",
       "      <td>Comedy|Romance</td>\n",
       "      <td>2</td>\n",
       "    </tr>\n",
       "    <tr>\n",
       "      <th>3</th>\n",
       "      <td>4</td>\n",
       "      <td>Waiting to Exhale (1995)</td>\n",
       "      <td>Comedy|Drama|Romance</td>\n",
       "      <td>3</td>\n",
       "    </tr>\n",
       "    <tr>\n",
       "      <th>4</th>\n",
       "      <td>5</td>\n",
       "      <td>Father of the Bride Part II (1995)</td>\n",
       "      <td>Comedy</td>\n",
       "      <td>1</td>\n",
       "    </tr>\n",
       "  </tbody>\n",
       "</table>\n",
       "</div>"
      ],
      "text/plain": [
       "   movieId                               title  \\\n",
       "0        1                    Toy Story (1995)   \n",
       "1        2                      Jumanji (1995)   \n",
       "2        3             Grumpier Old Men (1995)   \n",
       "3        4            Waiting to Exhale (1995)   \n",
       "4        5  Father of the Bride Part II (1995)   \n",
       "\n",
       "                                        genres  Ratings  \n",
       "0  Adventure|Animation|Children|Comedy|Fantasy        0  \n",
       "1                   Adventure|Children|Fantasy        1  \n",
       "2                               Comedy|Romance        2  \n",
       "3                         Comedy|Drama|Romance        3  \n",
       "4                                       Comedy        1  "
      ]
     },
     "execution_count": 4,
     "metadata": {},
     "output_type": "execute_result"
    }
   ],
   "source": [
    "################# Description of data\n",
    "df.head()\n"
   ]
  },
  {
   "cell_type": "code",
   "execution_count": 5,
   "id": "52bb1f81",
   "metadata": {},
   "outputs": [
    {
     "data": {
      "text/plain": [
       "(10329, 4)"
      ]
     },
     "execution_count": 5,
     "metadata": {},
     "output_type": "execute_result"
    }
   ],
   "source": [
    "df.shape"
   ]
  },
  {
   "cell_type": "code",
   "execution_count": 6,
   "id": "c90506c2",
   "metadata": {},
   "outputs": [
    {
     "name": "stdout",
     "output_type": "stream",
     "text": [
      "<class 'pandas.core.frame.DataFrame'>\n",
      "RangeIndex: 10329 entries, 0 to 10328\n",
      "Data columns (total 4 columns):\n",
      " #   Column   Non-Null Count  Dtype \n",
      "---  ------   --------------  ----- \n",
      " 0   movieId  10329 non-null  int64 \n",
      " 1   title    10329 non-null  object\n",
      " 2   genres   10329 non-null  object\n",
      " 3   Ratings  10329 non-null  int64 \n",
      "dtypes: int64(2), object(2)\n",
      "memory usage: 322.9+ KB\n"
     ]
    }
   ],
   "source": [
    "df.info()"
   ]
  },
  {
   "cell_type": "code",
   "execution_count": 7,
   "id": "d55949d0",
   "metadata": {},
   "outputs": [
    {
     "data": {
      "text/plain": [
       "Index(['movieId', 'title', 'genres', 'Ratings'], dtype='object')"
      ]
     },
     "execution_count": 7,
     "metadata": {},
     "output_type": "execute_result"
    }
   ],
   "source": [
    "df.columns"
   ]
  },
  {
   "cell_type": "code",
   "execution_count": 8,
   "id": "f5cf8c62",
   "metadata": {},
   "outputs": [
    {
     "data": {
      "text/html": [
       "<div>\n",
       "<style scoped>\n",
       "    .dataframe tbody tr th:only-of-type {\n",
       "        vertical-align: middle;\n",
       "    }\n",
       "\n",
       "    .dataframe tbody tr th {\n",
       "        vertical-align: top;\n",
       "    }\n",
       "\n",
       "    .dataframe thead th {\n",
       "        text-align: right;\n",
       "    }\n",
       "</style>\n",
       "<table border=\"1\" class=\"dataframe\">\n",
       "  <thead>\n",
       "    <tr style=\"text-align: right;\">\n",
       "      <th></th>\n",
       "      <th>movieId</th>\n",
       "      <th>Ratings</th>\n",
       "    </tr>\n",
       "  </thead>\n",
       "  <tbody>\n",
       "    <tr>\n",
       "      <th>count</th>\n",
       "      <td>10329.000000</td>\n",
       "      <td>10329.000000</td>\n",
       "    </tr>\n",
       "    <tr>\n",
       "      <th>mean</th>\n",
       "      <td>31924.282893</td>\n",
       "      <td>1.554652</td>\n",
       "    </tr>\n",
       "    <tr>\n",
       "      <th>std</th>\n",
       "      <td>37734.741149</td>\n",
       "      <td>1.065596</td>\n",
       "    </tr>\n",
       "    <tr>\n",
       "      <th>min</th>\n",
       "      <td>1.000000</td>\n",
       "      <td>0.000000</td>\n",
       "    </tr>\n",
       "    <tr>\n",
       "      <th>25%</th>\n",
       "      <td>3240.000000</td>\n",
       "      <td>1.000000</td>\n",
       "    </tr>\n",
       "    <tr>\n",
       "      <th>50%</th>\n",
       "      <td>7088.000000</td>\n",
       "      <td>2.000000</td>\n",
       "    </tr>\n",
       "    <tr>\n",
       "      <th>75%</th>\n",
       "      <td>59900.000000</td>\n",
       "      <td>2.000000</td>\n",
       "    </tr>\n",
       "    <tr>\n",
       "      <th>max</th>\n",
       "      <td>149532.000000</td>\n",
       "      <td>3.000000</td>\n",
       "    </tr>\n",
       "  </tbody>\n",
       "</table>\n",
       "</div>"
      ],
      "text/plain": [
       "             movieId       Ratings\n",
       "count   10329.000000  10329.000000\n",
       "mean    31924.282893      1.554652\n",
       "std     37734.741149      1.065596\n",
       "min         1.000000      0.000000\n",
       "25%      3240.000000      1.000000\n",
       "50%      7088.000000      2.000000\n",
       "75%     59900.000000      2.000000\n",
       "max    149532.000000      3.000000"
      ]
     },
     "execution_count": 8,
     "metadata": {},
     "output_type": "execute_result"
    }
   ],
   "source": [
    "df.describe()"
   ]
  },
  {
   "cell_type": "code",
   "execution_count": 9,
   "id": "236db915",
   "metadata": {},
   "outputs": [
    {
     "data": {
      "text/plain": [
       "movieId    0\n",
       "title      0\n",
       "genres     0\n",
       "Ratings    0\n",
       "dtype: int64"
      ]
     },
     "execution_count": 9,
     "metadata": {},
     "output_type": "execute_result"
    }
   ],
   "source": [
    "############### Preprocessing of data\n",
    "\n",
    "# checking for missing values\n",
    "df.isnull().sum()"
   ]
  },
  {
   "cell_type": "code",
   "execution_count": 10,
   "id": "fa5b3345",
   "metadata": {},
   "outputs": [
    {
     "data": {
      "text/plain": [
       "<Axes: >"
      ]
     },
     "execution_count": 10,
     "metadata": {},
     "output_type": "execute_result"
    },
    {
     "data": {
      "image/png": "[encoded data removed]",
      "text/plain": [
       "<Figure size 640x480 with 1 Axes>"
      ]
     },
     "metadata": {},
     "output_type": "display_data"
    }
   ],
   "source": [
    "# null values in heat map\n",
    "sns.heatmap(df.isnull(),cbar = False)\n"
   ]
  },
  {
   "cell_type": "code",
   "execution_count": 11,
   "id": "ac32048f",
   "metadata": {},
   "outputs": [
    {
     "data": {
      "text/plain": [
       "0"
      ]
     },
     "execution_count": 11,
     "metadata": {},
     "output_type": "execute_result"
    }
   ],
   "source": [
    "# check for duplicate values\n",
    "df.duplicated().sum()"
   ]
  },
  {
   "cell_type": "code",
   "execution_count": 12,
   "id": "9026c459",
   "metadata": {},
   "outputs": [
    {
     "data": {
      "text/plain": [
       "<seaborn.axisgrid.FacetGrid at 0x1a3b0f59850>"
      ]
     },
     "execution_count": 12,
     "metadata": {},
     "output_type": "execute_result"
    },
    {
     "data": {
      "image/png": "[encoded data removed]",
      "text/plain": [
       "<Figure size 400x400 with 1 Axes>"
      ]
     },
     "metadata": {},
     "output_type": "display_data"
    }
   ],
   "source": [
    "sns.displot(data=df, x='Ratings', kind='kde', aspect=1, height=4)"
   ]
  },
  {
   "cell_type": "code",
   "execution_count": 13,
   "id": "03af7321",
   "metadata": {},
   "outputs": [],
   "source": [
    "# Convert the dataframe into a pivot table\n",
    "user_item_matrix = pd.pivot_table(df,index=df.index, columns='movieId', values='Ratings', fill_value=0)"
   ]
  },
  {
   "cell_type": "code",
   "execution_count": 14,
   "id": "9af1bc5f",
   "metadata": {},
   "outputs": [
    {
     "name": "stdout",
     "output_type": "stream",
     "text": [
      "movieId  1       2       3       4       5       6       7       8       \\\n",
      "0             0       0       0       0       0       0       0       0   \n",
      "1             0       1       0       0       0       0       0       0   \n",
      "2             0       0       2       0       0       0       0       0   \n",
      "3             0       0       0       3       0       0       0       0   \n",
      "4             0       0       0       0       1       0       0       0   \n",
      "...         ...     ...     ...     ...     ...     ...     ...     ...   \n",
      "10324         0       0       0       0       0       0       0       0   \n",
      "10325         0       0       0       0       0       0       0       0   \n",
      "10326         0       0       0       0       0       0       0       0   \n",
      "10327         0       0       0       0       0       0       0       0   \n",
      "10328         0       0       0       0       0       0       0       0   \n",
      "\n",
      "movieId  9       10      ...  144482  144656  144976  146344  146656  146684  \\\n",
      "0             0       0  ...       0       0       0       0       0       0   \n",
      "1             0       0  ...       0       0       0       0       0       0   \n",
      "2             0       0  ...       0       0       0       0       0       0   \n",
      "3             0       0  ...       0       0       0       0       0       0   \n",
      "4             0       0  ...       0       0       0       0       0       0   \n",
      "...         ...     ...  ...     ...     ...     ...     ...     ...     ...   \n",
      "10324         0       0  ...       0       0       0       0       0       1   \n",
      "10325         0       0  ...       0       0       0       0       0       0   \n",
      "10326         0       0  ...       0       0       0       0       0       0   \n",
      "10327         0       0  ...       0       0       0       0       0       0   \n",
      "10328         0       0  ...       0       0       0       0       0       0   \n",
      "\n",
      "movieId  146878  148238  148626  149532  \n",
      "0             0       0       0       0  \n",
      "1             0       0       0       0  \n",
      "2             0       0       0       0  \n",
      "3             0       0       0       0  \n",
      "4             0       0       0       0  \n",
      "...         ...     ...     ...     ...  \n",
      "10324         0       0       0       0  \n",
      "10325         2       0       0       0  \n",
      "10326         0       0       0       0  \n",
      "10327         0       0       2       0  \n",
      "10328         0       0       0       3  \n",
      "\n",
      "[10329 rows x 10329 columns]\n"
     ]
    }
   ],
   "source": [
    "print(user_item_matrix)"
   ]
  },
  {
   "cell_type": "code",
   "execution_count": 15,
   "id": "44b8629a",
   "metadata": {},
   "outputs": [],
   "source": [
    "# Convert the pivot table to a sparse matrix\n",
    "user_item_matrix = csr_matrix(user_item_matrix.values)"
   ]
  },
  {
   "cell_type": "code",
   "execution_count": 16,
   "id": "ea3de2f1",
   "metadata": {},
   "outputs": [
    {
     "name": "stdout",
     "output_type": "stream",
     "text": [
      "  (1, 1)\t1\n",
      "  (2, 2)\t2\n",
      "  (3, 3)\t3\n",
      "  (4, 4)\t1\n",
      "  (5, 5)\t2\n",
      "  (7, 7)\t2\n",
      "  (8, 8)\t3\n",
      "  (10, 10)\t1\n",
      "  (11, 11)\t2\n",
      "  (12, 12)\t3\n",
      "  (13, 13)\t1\n",
      "  (14, 14)\t2\n",
      "  (16, 16)\t2\n",
      "  (17, 17)\t3\n",
      "  (19, 19)\t1\n",
      "  (20, 20)\t2\n",
      "  (21, 21)\t3\n",
      "  (22, 22)\t1\n",
      "  (23, 23)\t2\n",
      "  (25, 25)\t2\n",
      "  (26, 26)\t3\n",
      "  (28, 28)\t1\n",
      "  (29, 29)\t2\n",
      "  (30, 30)\t3\n",
      "  (31, 31)\t1\n",
      "  :\t:\n",
      "  (10297, 10297)\t1\n",
      "  (10298, 10298)\t2\n",
      "  (10300, 10300)\t2\n",
      "  (10301, 10301)\t3\n",
      "  (10303, 10303)\t1\n",
      "  (10304, 10304)\t2\n",
      "  (10305, 10305)\t3\n",
      "  (10306, 10306)\t1\n",
      "  (10307, 10307)\t2\n",
      "  (10309, 10309)\t2\n",
      "  (10310, 10310)\t3\n",
      "  (10312, 10312)\t1\n",
      "  (10313, 10313)\t2\n",
      "  (10314, 10314)\t3\n",
      "  (10315, 10315)\t1\n",
      "  (10316, 10316)\t2\n",
      "  (10318, 10318)\t2\n",
      "  (10319, 10319)\t3\n",
      "  (10321, 10321)\t1\n",
      "  (10322, 10322)\t2\n",
      "  (10323, 10323)\t3\n",
      "  (10324, 10324)\t1\n",
      "  (10325, 10325)\t2\n",
      "  (10327, 10327)\t2\n",
      "  (10328, 10328)\t3\n"
     ]
    }
   ],
   "source": [
    "print(user_item_matrix)"
   ]
  },
  {
   "cell_type": "code",
   "execution_count": 17,
   "id": "b332b8e7",
   "metadata": {},
   "outputs": [
    {
     "data": {
      "text/html": [
       "<style>#sk-container-id-1 {color: black;}#sk-container-id-1 pre{padding: 0;}#sk-container-id-1 div.sk-toggleable {background-color: white;}#sk-container-id-1 label.sk-toggleable__label {cursor: pointer;display: block;width: 100%;margin-bottom: 0;padding: 0.3em;box-sizing: border-box;text-align: center;}#sk-container-id-1 label.sk-toggleable__label-arrow:before {content: \"▸\";float: left;margin-right: 0.25em;color: #696969;}#sk-container-id-1 label.sk-toggleable__label-arrow:hover:before {color: black;}#sk-container-id-1 div.sk-estimator:hover label.sk-toggleable__label-arrow:before {color: black;}#sk-container-id-1 div.sk-toggleable__content {max-height: 0;max-width: 0;overflow: hidden;text-align: left;background-color: #f0f8ff;}#sk-container-id-1 div.sk-toggleable__content pre {margin: 0.2em;color: black;border-radius: 0.25em;background-color: #f0f8ff;}#sk-container-id-1 input.sk-toggleable__control:checked~div.sk-toggleable__content {max-height: 200px;max-width: 100%;overflow: auto;}#sk-container-id-1 input.sk-toggleable__control:checked~label.sk-toggleable__label-arrow:before {content: \"▾\";}#sk-container-id-1 div.sk-estimator input.sk-toggleable__control:checked~label.sk-toggleable__label {background-color: #d4ebff;}#sk-container-id-1 div.sk-label input.sk-toggleable__control:checked~label.sk-toggleable__label {background-color: #d4ebff;}#sk-container-id-1 input.sk-hidden--visually {border: 0;clip: rect(1px 1px 1px 1px);clip: rect(1px, 1px, 1px, 1px);height: 1px;margin: -1px;overflow: hidden;padding: 0;position: absolute;width: 1px;}#sk-container-id-1 div.sk-estimator {font-family: monospace;background-color: #f0f8ff;border: 1px dotted black;border-radius: 0.25em;box-sizing: border-box;margin-bottom: 0.5em;}#sk-container-id-1 div.sk-estimator:hover {background-color: #d4ebff;}#sk-container-id-1 div.sk-parallel-item::after {content: \"\";width: 100%;border-bottom: 1px solid gray;flex-grow: 1;}#sk-container-id-1 div.sk-label:hover label.sk-toggleable__label {background-color: #d4ebff;}#sk-container-id-1 div.sk-serial::before {content: \"\";position: absolute;border-left: 1px solid gray;box-sizing: border-box;top: 0;bottom: 0;left: 50%;z-index: 0;}#sk-container-id-1 div.sk-serial {display: flex;flex-direction: column;align-items: center;background-color: white;padding-right: 0.2em;padding-left: 0.2em;position: relative;}#sk-container-id-1 div.sk-item {position: relative;z-index: 1;}#sk-container-id-1 div.sk-parallel {display: flex;align-items: stretch;justify-content: center;background-color: white;position: relative;}#sk-container-id-1 div.sk-item::before, #sk-container-id-1 div.sk-parallel-item::before {content: \"\";position: absolute;border-left: 1px solid gray;box-sizing: border-box;top: 0;bottom: 0;left: 50%;z-index: -1;}#sk-container-id-1 div.sk-parallel-item {display: flex;flex-direction: column;z-index: 1;position: relative;background-color: white;}#sk-container-id-1 div.sk-parallel-item:first-child::after {align-self: flex-end;width: 50%;}#sk-container-id-1 div.sk-parallel-item:last-child::after {align-self: flex-start;width: 50%;}#sk-container-id-1 div.sk-parallel-item:only-child::after {width: 0;}#sk-container-id-1 div.sk-dashed-wrapped {border: 1px dashed gray;margin: 0 0.4em 0.5em 0.4em;box-sizing: border-box;padding-bottom: 0.4em;background-color: white;}#sk-container-id-1 div.sk-label label {font-family: monospace;font-weight: bold;display: inline-block;line-height: 1.2em;}#sk-container-id-1 div.sk-label-container {text-align: center;}#sk-container-id-1 div.sk-container {/* jupyter's `normalize.less` sets `[hidden] { display: none; }` but bootstrap.min.css set `[hidden] { display: none !important; }` so we also need the `!important` here to be able to override the default hidden behavior on the sphinx rendered scikit-learn.org. See: https://github.com/scikit-learn/scikit-learn/issues/21755 */display: inline-block !important;position: relative;}#sk-container-id-1 div.sk-text-repr-fallback {display: none;}</style><div id=\"sk-container-id-1\" class=\"sk-top-container\"><div class=\"sk-text-repr-fallback\"><pre>NearestNeighbors(algorithm=&#x27;brute&#x27;, metric=&#x27;cosine&#x27;)</pre><b>In a Jupyter environment, please rerun this cell to show the HTML representation or trust the notebook. <br />On GitHub, the HTML representation is unable to render, please try loading this page with nbviewer.org.</b></div><div class=\"sk-container\" hidden><div class=\"sk-item\"><div class=\"sk-estimator sk-toggleable\"><input class=\"sk-toggleable__control sk-hidden--visually\" id=\"sk-estimator-id-1\" type=\"checkbox\" checked><label for=\"sk-estimator-id-1\" class=\"sk-toggleable__label sk-toggleable__label-arrow\">NearestNeighbors</label><div class=\"sk-toggleable__content\"><pre>NearestNeighbors(algorithm=&#x27;brute&#x27;, metric=&#x27;cosine&#x27;)</pre></div></div></div></div></div>"
      ],
      "text/plain": [
       "NearestNeighbors(algorithm='brute', metric='cosine')"
      ]
     },
     "execution_count": 17,
     "metadata": {},
     "output_type": "execute_result"
    }
   ],
   "source": [
    "# model training\n",
    "model = NearestNeighbors(metric='cosine', algorithm='brute')\n",
    "model.fit(user_item_matrix)"
   ]
  },
  {
   "cell_type": "code",
   "execution_count": 18,
   "id": "1f31cd5a",
   "metadata": {},
   "outputs": [],
   "source": [
    "def get_movie_recommendations(movie_id, num_recommendations):\n",
    "    # Find the k nearest neighbors of the movie\n",
    "    distances, indices = model.kneighbors(user_item_matrix[movie_id], n_neighbors=num_recommendations+1)\n",
    "\n",
    "    # indices of the recommended movies\n",
    "    recommended_movie_indices = indices.squeeze()[1:]\n",
    "\n",
    "    # titles of the recommended movies\n",
    "    recommended_movie_titles = df.loc[recommended_movie_indices, 'title']\n",
    "\n",
    "    return recommended_movie_titles"
   ]
  },
  {
   "cell_type": "code",
   "execution_count": 27,
   "id": "68ecdc85",
   "metadata": {},
   "outputs": [
    {
     "name": "stdout",
     "output_type": "stream",
     "text": [
      "Enter Movie ID: 48\n",
      "how many movie recommendations you want? = 5\n",
      "-----------------------------------------------------\n",
      "here is the list of 5 movies for you based on movie_id 48\n",
      "-----------------------------------------------------\n",
      "6886                                     Ted Bundy (2002)\n",
      "6885                                 49th Parallel (1941)\n",
      "6887                     District 13 (Banlieue 13) (2004)\n",
      "6889                                        Hostel (2005)\n",
      "6884    Lady Vengeance (Sympathy for Lady Vengeance) (...\n",
      "Name: title, dtype: object\n"
     ]
    }
   ],
   "source": [
    "# Test the model by getting recommendations for a movie\n",
    "movie_id = int(input(\"Enter Movie ID: \"))\n",
    "num_recom=int(input(\"how many movie recommendations you want? = \"))\n",
    "print(\"-----------------------------------------------------\")\n",
    "print(\"here is the list of\",num_recom,\"movies for you based on movie_id\",movie_id)\n",
    "print(\"-----------------------------------------------------\")\n",
    "recommended_movies = get_movie_recommendations(movie_id,num_recom)\n",
    "print(recommended_movies)"
   ]
  },
  {
   "cell_type": "code",
   "execution_count": 28,
   "id": "2fdc11c0",
   "metadata": {},
   "outputs": [],
   "source": [
    "# Assume the following are the actual ratings for the recommended movies by a user\n",
    "actual_ratings = [0, 3, 2, 0, 1]\n",
    "\n",
    "# Calculate the mean absolute error and root mean squared error\n",
    "predicted_ratings = [df.loc[df['title'] == title, 'Ratings'].mean() for title in recommended_movies]"
   ]
  },
  {
   "cell_type": "code",
   "execution_count": 29,
   "id": "75b0488f",
   "metadata": {},
   "outputs": [
    {
     "name": "stdout",
     "output_type": "stream",
     "text": [
      "Mean Absolute Error: 0.2\n",
      "Root Mean Squared Error: 0.4472135954999579\n"
     ]
    }
   ],
   "source": [
    "mae = mean_absolute_error(actual_ratings, predicted_ratings)\n",
    "rmse = mean_squared_error(actual_ratings, predicted_ratings, squared=False)\n",
    "\n",
    "print(f'Mean Absolute Error: {mae}')\n",
    "print(f'Root Mean Squared Error: {rmse}')"
   ]
  },
  {
   "cell_type": "code",
   "execution_count": 30,
   "id": "864258ee",
   "metadata": {},
   "outputs": [
    {
     "name": "stdout",
     "output_type": "stream",
     "text": [
      "Accuracy: 93.33333333333333%\n"
     ]
    }
   ],
   "source": [
    "\n",
    "# accuracy  of the model\n",
    "accuracy = 1 - (mae / max(actual_ratings))\n",
    "\n",
    "print(f'Accuracy: {accuracy * 100}%')"
   ]
  },
  {
   "cell_type": "code",
   "execution_count": null,
   "id": "fe170fa7",
   "metadata": {},
   "outputs": [],
   "source": []
  }
 ],
 "metadata": {
  "kernelspec": {
   "display_name": "Python 3 (ipykernel)",
   "language": "python",
   "name": "python3"
  },
  "language_info": {
   "codemirror_mode": {
    "name": "ipython",
    "version": 3
   },
   "file_extension": ".py",
   "mimetype": "text/x-python",
   "name": "python",
   "nbconvert_exporter": "python",
   "pygments_lexer": "ipython3",
   "version": "3.11.4"
  }
 },
 "nbformat": 4,
 "nbformat_minor": 5
}
